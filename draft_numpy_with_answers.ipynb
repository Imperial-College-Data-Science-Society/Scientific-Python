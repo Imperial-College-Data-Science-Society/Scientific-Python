{
 "cells": [
  {
   "cell_type": "markdown",
   "metadata": {},
   "source": [
    "# Introduction to Numpy"
   ]
  },
  {
   "cell_type": "markdown",
   "metadata": {},
   "source": [
    "*Exercise difficulty rating:*  \n",
    "*[1]* easy. ~1 min  \n",
    "*[2]* medium. ~2-3 minutes  \n",
    "*[3]* difficult. Suitable for a standalone project. "
   ]
  },
  {
   "cell_type": "markdown",
   "metadata": {},
   "source": [
    "## Numpy"
   ]
  },
  {
   "cell_type": "markdown",
   "metadata": {},
   "source": [
    "Numpy is imported and aliased to np by convention"
   ]
  },
  {
   "cell_type": "code",
   "execution_count": 2,
   "metadata": {
    "collapsed": true
   },
   "outputs": [],
   "source": [
    "import numpy as np"
   ]
  },
  {
   "cell_type": "markdown",
   "metadata": {},
   "source": [
    "### Array creation"
   ]
  },
  {
   "cell_type": "markdown",
   "metadata": {},
   "source": [
    "The basic data structure provided by Numpy is the ndarray (n-dimensional array). Each array can store items of the same datatype (e.g. integers, floats, etc.).\n",
    "Arrays can be created in a number of ways:"
   ]
  },
  {
   "cell_type": "markdown",
   "metadata": {},
   "source": [
    "- from a Python iterable (usually a list)"
   ]
  },
  {
   "cell_type": "code",
   "execution_count": 2,
   "metadata": {
    "collapsed": true
   },
   "outputs": [],
   "source": [
    "a = np.array([0, 1, 2]) # a rank 1 array of integers"
   ]
  },
  {
   "cell_type": "markdown",
   "metadata": {},
   "source": [
    "- using arange (similar to Python's builtin range but returns an array):"
   ]
  },
  {
   "cell_type": "code",
   "execution_count": 3,
   "metadata": {
    "collapsed": true
   },
   "outputs": [],
   "source": [
    "a = np.arange(start=0., stop=1., step=.1) # a rank 1 array of floats \n",
    "                                          # note that start is included but stop is not\n",
    "b = np.arange(10) # a rank 1 array of ints from 0 to 9"
   ]
  },
  {
   "cell_type": "markdown",
   "metadata": {},
   "source": [
    "- using linspace and logspace"
   ]
  },
  {
   "cell_type": "code",
   "execution_count": 4,
   "metadata": {
    "collapsed": true
   },
   "outputs": [],
   "source": [
    "a = np.linspace(start=0, stop=5, num=10) # a rank 1 array of 10 evenly-spaced floats between 0 and 5\n",
    "                                         # this can be thought of as a linear axis of a graph with evenly-spaced ticks\n",
    "b = np.logspace(-6, -1, 6) # same as above but on logarithmic scale"
   ]
  },
  {
   "cell_type": "markdown",
   "metadata": {},
   "source": [
    "- using built-in helper functions"
   ]
  },
  {
   "cell_type": "code",
   "execution_count": 47,
   "metadata": {
    "collapsed": true
   },
   "outputs": [],
   "source": [
    "zeros = np.zeros(5) # rank 1 array of 5 zeros\n",
    "ones = np.ones(3)   # it's in the name\n",
    "eye = np.eye(8) # 8x8 identity matrix"
   ]
  },
  {
   "cell_type": "markdown",
   "metadata": {},
   "source": [
    "### Exercises"
   ]
  },
  {
   "cell_type": "markdown",
   "metadata": {},
   "source": [
    "- create a set of axes for a graph as Numpy arrays. Let the x axis be **uniformly spaced** from 0 to 60 with scale 1 (i.e. one tick per value) and the y axis be on **log scale** and represent the powers of 10 from 0 to 6 *[1]*."
   ]
  },
  {
   "cell_type": "code",
   "execution_count": 30,
   "metadata": {
    "collapsed": true
   },
   "outputs": [],
   "source": [
    "# answer:\n",
    "x = np.linspace(0, 60, 61)\n",
    "y = np.logspace(0, 6, 7)"
   ]
  },
  {
   "cell_type": "markdown",
   "metadata": {},
   "source": [
    "### Array indexing and shapes"
   ]
  },
  {
   "cell_type": "markdown",
   "metadata": {},
   "source": [
    "Basic array indexing is similar to Python lists. However, arrays can be indexed along multiple dimensions."
   ]
  },
  {
   "cell_type": "code",
   "execution_count": 103,
   "metadata": {},
   "outputs": [
    {
     "name": "stdout",
     "output_type": "stream",
     "text": [
      "[0 1 2]\n",
      "0\n",
      "[1 4 7]\n"
     ]
    }
   ],
   "source": [
    "a = np.array([[0, 1, 2],\n",
    "              [3, 4, 5],\n",
    "              [6, 7, 8]])\n",
    "print(a[0])    # prints [0, 1, 2]\n",
    "print(a[0, 0]) # prints 0\n",
    "print(a[:, 1]) # prints [1, 4, 7]"
   ]
  },
  {
   "cell_type": "markdown",
   "metadata": {},
   "source": [
    "Here : denotes all elements along the axis. For a 2D array (i.e. a matrix) axis 0 is along rows and axis 1 along columns."
   ]
  },
  {
   "cell_type": "markdown",
   "metadata": {},
   "source": [
    "#### Slicing\n",
    "Arrays support slicing along each axis, which works very similarly to Python lists."
   ]
  },
  {
   "cell_type": "code",
   "execution_count": 100,
   "metadata": {},
   "outputs": [
    {
     "name": "stdout",
     "output_type": "stream",
     "text": [
      "[ 0.  1.  2.  3.  4.]\n",
      "------------\n",
      "[[ 0  1]\n",
      " [ 3  4]\n",
      " [ 6  7]\n",
      " [ 9 10]]\n"
     ]
    }
   ],
   "source": [
    "a = np.linspace(0, 9, 10)\n",
    "print(a[0:5]) # prints [0., 1., 2., 3., 4.]\n",
    "b = np.array([[0,  1,  2],\n",
    "              [3,  4,  5],\n",
    "              [6,  7,  8],\n",
    "              [9, 10, 11]])\n",
    "print('-'*12)\n",
    "print(b[:, 0:2]) # prints [[0,  1]\n",
    "                 #         [3,  4]\n",
    "                 #         [6,  7]\n",
    "                 #         [9, 10]]"
   ]
  },
  {
   "cell_type": "markdown",
   "metadata": {},
   "source": [
    "#### Boolean indexing\n",
    "Arrays can also be indexed using boolean values"
   ]
  },
  {
   "cell_type": "code",
   "execution_count": 13,
   "metadata": {},
   "outputs": [
    {
     "name": "stdout",
     "output_type": "stream",
     "text": [
      "[0 1 2 3 4]\n",
      "[0 2 4 6 8]\n"
     ]
    }
   ],
   "source": [
    "a = np.arange(10)\n",
    "print(a[a < 5]) # prints [0, 1, 2, 3, 4]\n",
    "print(a[a % 2 == 0]) # prints [0, 2, 4, 6, 8]"
   ]
  },
  {
   "cell_type": "markdown",
   "metadata": {},
   "source": [
    "#### Shapes\n",
    "The shape of the array is a tuple of size ```(array.ndim)```, where each element is the size of the array along that axis."
   ]
  },
  {
   "cell_type": "code",
   "execution_count": 8,
   "metadata": {},
   "outputs": [
    {
     "name": "stdout",
     "output_type": "stream",
     "text": [
      "(3,)\n",
      "(3, 3, 1)\n"
     ]
    }
   ],
   "source": [
    "a = np.array([0, 1, 2])\n",
    "print(a.shape) # prints 3\n",
    "b = np.array([[[0], [1], [2]],\n",
    "              [[3], [4], [5]],\n",
    "              [[6], [7], [8]]])\n",
    "print(b.shape) # prints (3, 3, 1)"
   ]
  },
  {
   "cell_type": "markdown",
   "metadata": {},
   "source": [
    "The shape of the array can be changed using the reshape method."
   ]
  },
  {
   "cell_type": "code",
   "execution_count": 9,
   "metadata": {},
   "outputs": [
    {
     "name": "stdout",
     "output_type": "stream",
     "text": [
      "[[0 1 2]\n",
      " [3 4 5]\n",
      " [6 7 8]]\n"
     ]
    }
   ],
   "source": [
    "a = np.arange(9).reshape((3, 3))\n",
    "print(a) # prints [[0 1 2]\n",
    "         #         [3 4 5]\n",
    "         #         [6 7 8]]"
   ]
  },
  {
   "cell_type": "markdown",
   "metadata": {},
   "source": [
    "Note that the total number of elements in the new array has to be equal to the number of elements in the initial array. The code below will throw an error."
   ]
  },
  {
   "cell_type": "code",
   "execution_count": 10,
   "metadata": {},
   "outputs": [
    {
     "name": "stdout",
     "output_type": "stream",
     "text": [
      "cannot reshape array of size 5 into shape (3,3)\n"
     ]
    }
   ],
   "source": [
    "try:\n",
    "    a = np.arange(5).reshape((3, 3))\n",
    "except ValueError as e:\n",
    "    print(e)"
   ]
  },
  {
   "cell_type": "markdown",
   "metadata": {},
   "source": [
    "### Exercises"
   ]
  },
  {
   "cell_type": "markdown",
   "metadata": {},
   "source": [
    "- get the **first column** and the **third row** of the following array *[1]*."
   ]
  },
  {
   "cell_type": "code",
   "execution_count": 37,
   "metadata": {
    "collapsed": true
   },
   "outputs": [],
   "source": [
    "a = np.array([[23, 324,  21, 116], \n",
    "              [ 0,  55, 232, 122],\n",
    "              [42,  43,  44,  45],\n",
    "              [178, 67, 567,  55]])"
   ]
  },
  {
   "cell_type": "code",
   "execution_count": null,
   "metadata": {
    "collapsed": true
   },
   "outputs": [],
   "source": [
    "# answer\n",
    "first_column = a[:, 0] \n",
    "third_row = a[2]"
   ]
  },
  {
   "cell_type": "markdown",
   "metadata": {},
   "source": [
    "- find all numbers divisible by 7 between 0 and 50 *[1]*."
   ]
  },
  {
   "cell_type": "code",
   "execution_count": 39,
   "metadata": {
    "collapsed": true
   },
   "outputs": [],
   "source": [
    "# answer\n",
    "a = np.arange(0, 51)\n",
    "divisible_by_7 = a[a % 7 == 0]"
   ]
  },
  {
   "cell_type": "markdown",
   "metadata": {},
   "source": [
    "### Mathematical operations and broadcasting"
   ]
  },
  {
   "cell_type": "markdown",
   "metadata": {},
   "source": [
    "#### Basic arithmetics\n",
    "Numpy arrays support the standard mathematical operations."
   ]
  },
  {
   "cell_type": "code",
   "execution_count": 20,
   "metadata": {},
   "outputs": [
    {
     "name": "stdout",
     "output_type": "stream",
     "text": [
      "[[1 2 3]\n",
      " [4 5 6]\n",
      " [7 8 9]]\n",
      "------------\n",
      "[[-5 -4 -3]\n",
      " [-2 -1  0]\n",
      " [ 1  2  3]]\n",
      "------------\n",
      "[30 33 36]\n",
      "------------\n",
      "[ 5.   5.5  6. ]\n"
     ]
    }
   ],
   "source": [
    "a = np.arange(9).reshape(3, 3)\n",
    "b = np.array([10, 11, 12])\n",
    "print(a + 1) # operation is performed on the whole array\n",
    "print('-'*12)\n",
    "print(a - 5)\n",
    "print('-'*12)\n",
    "print(b * 3)\n",
    "print('-'*12)\n",
    "print(b / 2)"
   ]
  },
  {
   "cell_type": "markdown",
   "metadata": {},
   "source": [
    "#### Broadcasting\n",
    "Operations involving 2 or more arrays are also possible. However, they must obey the rules of broadcasting."
   ]
  },
  {
   "cell_type": "code",
   "execution_count": 19,
   "metadata": {},
   "outputs": [
    {
     "name": "stdout",
     "output_type": "stream",
     "text": [
      "[[ 0  1  4]\n",
      " [ 9 16 25]\n",
      " [36 49 64]]\n",
      "------------\n",
      "[[10 12 14]\n",
      " [13 15 17]\n",
      " [16 18 20]]\n",
      "------------\n",
      "[10 14 18]\n"
     ]
    }
   ],
   "source": [
    "print(a * a) # multiply each element of a by itself\n",
    "print('-'*12)\n",
    "print(a + b) # add b elementwise to every row of a\n",
    "print('-'*12)\n",
    "print(a[:, 0] + b) # add b only to the first column of a"
   ]
  },
  {
   "cell_type": "markdown",
   "metadata": {
    "collapsed": true
   },
   "source": [
    "Notice that in the last 2 examples above we could perform the operations even though the arrays did not have the same shape. This is one of the most powerful features of Numpy that allows for very efficient computations. You can read more about broadcasting [in the official documentation](https://docs.scipy.org/doc/numpy/user/basics.broadcasting.html) and [here](http://cs231n.github.io/python-numpy-tutorial/#numpy-broadcasting)."
   ]
  },
  {
   "cell_type": "markdown",
   "metadata": {},
   "source": [
    "#### Built-in functions\n",
    "Numpy has efficient implementations of many standard mathematical and statistical functions."
   ]
  },
  {
   "cell_type": "code",
   "execution_count": 84,
   "metadata": {},
   "outputs": [
    {
     "name": "stdout",
     "output_type": "stream",
     "text": [
      "0.234072030508\n",
      "------------\n",
      "True\n",
      "------------\n",
      "0.642666136464\n",
      "------------\n",
      "2.80886436609\n",
      "------------\n",
      "[ 0.44603017  0.60719111  1.75564308]\n",
      "------------\n",
      "[ 2.93429278 -1.5653583   0.28745882  1.15247107]\n"
     ]
    }
   ],
   "source": [
    "a = np.random.normal(0, 1, (4, 3)) # np.random.normal creates an array of normally-distributed random numbers\n",
    "                                   # with given mean and standard deviation (e.g. 0 and 1) and in given shape.\n",
    "print(np.mean(a)) # a number close to 0\n",
    "print('-'*12)\n",
    "print(np.mean(a) == a.mean()) # many functions are also implemented as methods in the ndarray class\n",
    "print('-'*12)\n",
    "print(np.std(a)) # close to 1\n",
    "print('-'*12)\n",
    "print(np.sum(a))  # Compute sum of all elements\n",
    "print('-'*12)\n",
    "print(np.sum(a, axis=0))  # Compute sum of each column\n",
    "print('-'*12)\n",
    "print(np.sum(a, axis=1))  # Compute sum of each row"
   ]
  },
  {
   "cell_type": "markdown",
   "metadata": {},
   "source": [
    "### Exercises"
   ]
  },
  {
   "cell_type": "markdown",
   "metadata": {},
   "source": [
    "- create a **6x6 array** of normally distributed random numbers with **mean 5** and **standard deviation 10**. Print its computed mean and standard deviation *[1]*."
   ]
  },
  {
   "cell_type": "code",
   "execution_count": 52,
   "metadata": {},
   "outputs": [
    {
     "name": "stdout",
     "output_type": "stream",
     "text": [
      "5.09409892265\n",
      "8.87640405235\n"
     ]
    }
   ],
   "source": [
    "# answer\n",
    "a = np.random.normal(5, 10, (6, 6))\n",
    "print(np.mean(a))\n",
    "print(a.std())"
   ]
  },
  {
   "cell_type": "markdown",
   "metadata": {},
   "source": [
    "- add 5 to every element of the array from the previous exercise *[1]*."
   ]
  },
  {
   "cell_type": "code",
   "execution_count": 53,
   "metadata": {
    "collapsed": true
   },
   "outputs": [],
   "source": [
    "# answer\n",
    "a += 5"
   ]
  },
  {
   "cell_type": "markdown",
   "metadata": {},
   "source": [
    "- multiply the **third column** of the array from the previous exercise by the given array *[1]*."
   ]
  },
  {
   "cell_type": "code",
   "execution_count": 54,
   "metadata": {
    "collapsed": true
   },
   "outputs": [],
   "source": [
    "b = np.array([0, 1, 0, 1, 0, 1])"
   ]
  },
  {
   "cell_type": "code",
   "execution_count": 55,
   "metadata": {
    "collapsed": true
   },
   "outputs": [],
   "source": [
    "# answer\n",
    "a[:, 2] *= b"
   ]
  },
  {
   "cell_type": "markdown",
   "metadata": {},
   "source": [
    "- create a 7x7 matrix with 7 on the leading diagonal and 0 everywhere else (**note**: you might find the ```eye``` function useful) *[1]*."
   ]
  },
  {
   "cell_type": "code",
   "execution_count": 56,
   "metadata": {
    "collapsed": true
   },
   "outputs": [],
   "source": [
    "# answer\n",
    "a = np.eye(7) * 7"
   ]
  },
  {
   "cell_type": "markdown",
   "metadata": {},
   "source": [
    "- the following array represents the spending, in pounds of 4 people over 5 months (rows represent time and columns the individuals).\n",
    "  Compute the **total spending of person 2**. Compute the **average spending in each month for each person** (**note**: use the ```axis``` argument) *[1]*."
   ]
  },
  {
   "cell_type": "code",
   "execution_count": 146,
   "metadata": {
    "collapsed": true
   },
   "outputs": [],
   "source": [
    "#            person     1        2       3        4      # month\n",
    "spending = np.array([[450.55, 340.67, 1023.98, 765.30],  # 1\n",
    "                     [430.46, 315.99,  998.48, 760.78],  # 2\n",
    "                     [470.30, 320.34, 1013.67, 774.50],  # 3\n",
    "                     [445.62, 400.60, 1020.20, 799.45],  # 4\n",
    "                     [432.01, 330.13, 1011.76, 750.91]]) # 5"
   ]
  },
  {
   "cell_type": "code",
   "execution_count": 147,
   "metadata": {
    "collapsed": true
   },
   "outputs": [],
   "source": [
    "# answer\n",
    "total_person_2 = np.sum(spending[:, 1])\n",
    "mean_all = np.mean(spending, axis=0)"
   ]
  },
  {
   "cell_type": "markdown",
   "metadata": {},
   "source": [
    "- the *outer product* of two vectors ```u``` and ```v``` can be obtained by multiplying each element of ```u``` by each element of ```v```. Compute the outer product of the given vectors (**note**: use the ```reshape``` function) *[2]*."
   ]
  },
  {
   "cell_type": "code",
   "execution_count": 57,
   "metadata": {
    "collapsed": true
   },
   "outputs": [],
   "source": [
    "v = np.array([1,2,3])\n",
    "w = np.array([4,5])"
   ]
  },
  {
   "cell_type": "code",
   "execution_count": 51,
   "metadata": {},
   "outputs": [
    {
     "name": "stdout",
     "output_type": "stream",
     "text": [
      "[[ 4  5]\n",
      " [ 8 10]\n",
      " [12 15]]\n"
     ]
    }
   ],
   "source": [
    "# answer\n",
    "outer = np.reshape(v, (3, 1)) * w"
   ]
  },
  {
   "cell_type": "markdown",
   "metadata": {},
   "source": [
    "### Linear algebra"
   ]
  },
  {
   "cell_type": "markdown",
   "metadata": {},
   "source": [
    "Numpy has extensive support for linear algebra operations."
   ]
  },
  {
   "cell_type": "code",
   "execution_count": 123,
   "metadata": {},
   "outputs": [
    {
     "name": "stdout",
     "output_type": "stream",
     "text": [
      "6.95\n",
      "------------\n",
      "[13 98 31]\n",
      "------------\n",
      "[[ -6.85   1.22]\n",
      " [ 38.05  10.6 ]\n",
      " [-12.7    3.26]]\n",
      "------------\n",
      "6.7082039325\n",
      "------------\n",
      "[[ 2.    1.2   3.48]\n",
      " [ 1.    0.6   1.74]\n",
      " [ 2.5   1.5   4.35]]\n",
      "------------\n",
      "[[ 0.25  4.3   1.  ]\n",
      " [ 0.2   0.1   0.82]]\n",
      "------------\n",
      "[4 2 5]\n",
      "------------\n",
      "[[ 1.61111111  0.05555556 -0.72222222]\n",
      " [ 0.91666667  0.08333333 -0.58333333]\n",
      " [-2.         -0.          1.        ]]\n",
      "------------\n",
      "[ 2.94444444  0.91666667 -3.        ]\n"
     ]
    }
   ],
   "source": [
    "u = np.array([4, 2, 5]) # a row vector in R^3, shape (3,)\n",
    "v = np.array([.5, .3, .87])\n",
    "a = np.array([[3, -2,  1],\n",
    "              [9,  6, 10],\n",
    "              [6, -4,  3]]) # a 3x3 matrix\n",
    "b = np.array([[.25,  .2],\n",
    "              [4.3,  .1],\n",
    "              [ 1., .82]]) # a 3x2 matrix\n",
    "\n",
    "print(u.dot(v)) # the dot product of vectors\n",
    "print('-'*12)\n",
    "\n",
    "print(a.dot(u)) # the matrix vector product\n",
    "print('-'*12)\n",
    "\n",
    "print(a.dot(b)) # matrix multiplication\n",
    "print('-'*12)\n",
    "\n",
    "print(np.linalg.norm(u)) # norm aka magnitude of a vector\n",
    "print('-'*12)\n",
    "\n",
    "print(np.outer(u, v)) # uv^T\n",
    "print('-'*12)\n",
    "\n",
    "print(np.transpose(b)) # equivalent to b.T\n",
    "print('-'*12)\n",
    "\n",
    "print(u.T) # note that this does not turn a row vector into column vector\n",
    "           # i.e. the shape of u.T is still (3,)\n",
    "print('-'*12)\n",
    "\n",
    "print(np.linalg.inv(a)) # find the inverse of a matrix, a^-1\n",
    "print('-'*12)\n",
    "\n",
    "print(np.linalg.solve(a, u)) # solve the linear system ax = u for x"
   ]
  },
  {
   "cell_type": "markdown",
   "metadata": {},
   "source": [
    "### Exercises"
   ]
  },
  {
   "cell_type": "markdown",
   "metadata": {},
   "source": [
    "- write a function to compute the Euclidean distance between two vectors. Evaluate it on the given data *[1]*."
   ]
  },
  {
   "cell_type": "code",
   "execution_count": 227,
   "metadata": {
    "collapsed": true
   },
   "outputs": [],
   "source": [
    "u = np.array([.4, .23, .01])\n",
    "v = np.array([.12, 1.1, .5])"
   ]
  },
  {
   "cell_type": "code",
   "execution_count": 234,
   "metadata": {
    "collapsed": true
   },
   "outputs": [],
   "source": [
    "# answer\n",
    "def dist(u, v):\n",
    "    return np.sqrt(np.sum((u - v) ** 2))\n",
    "\n",
    "# or\n",
    "def dist(u, v):\n",
    "    return np.linalg.norm(u - v)"
   ]
  },
  {
   "cell_type": "markdown",
   "metadata": {},
   "source": [
    "- the closed-form solution for the linear regression problem can be written as  \n",
    "  \n",
    " $W = (X^{T}X)^{-1}X^{T}y$  \n",
    "   \n",
    " Compute the weight matrix $W$ for the given data. Check if your weight and bias are close to the true values (2, 5). Compute the estimated values $\\hat{y}$ for the test dataset *[2]*."
   ]
  },
  {
   "cell_type": "code",
   "execution_count": 36,
   "metadata": {},
   "outputs": [],
   "source": [
    "def f_true(x):\n",
    "    return 2 * x + 5\n",
    "\n",
    "def f(x):\n",
    "    return f_true(x) + np.random.normal(0, 1, xx.shape[0])\n",
    "\n",
    "xx = np.linspace(-10, 10)\n",
    "X = np.ones((xx.shape[0], 2))\n",
    "X[:, 1] = xx\n",
    "y = f(xx)\n",
    "test = np.array([-5.5, 1.2, 4.8, 9.])"
   ]
  },
  {
   "cell_type": "code",
   "execution_count": 45,
   "metadata": {},
   "outputs": [],
   "source": [
    "# answer\n",
    "W = (np.linalg.inv(X.T.dot(X)).dot(X.T)).dot(y)\n",
    "\n",
    "# or\n",
    "W = np.linalg.pinv(X).dot(y)\n",
    "\n",
    "y_hat = test * W[1] + W[0]"
   ]
  },
  {
   "cell_type": "markdown",
   "metadata": {},
   "source": [
    "### Vectorized functions and speed"
   ]
  },
  {
   "cell_type": "markdown",
   "metadata": {},
   "source": [
    "The functions in Numpy, including the mathematical operators are implemented in efficient C code operating on whole arrays. Therfore, it is usually a good idea to avoid element-by-element computations in a ```for``` or ```while``` loop. Functions that operate on whole arrays are referred to as *vectorized*."
   ]
  },
  {
   "cell_type": "code",
   "execution_count": 193,
   "metadata": {
    "collapsed": true
   },
   "outputs": [],
   "source": [
    "# a non-vectorized function\n",
    "def log_pos_p1(x):\n",
    "    \n",
    "    \"\"\"Compute the natural log + 1 of positive elements in x. \n",
    "       Return 0 for elements < 0.\"\"\"\n",
    "    \n",
    "    result = np.zeros_like(x) # create an array of zeros with the same shape and type as x\n",
    "    for i, e in np.ndenumerate(x): # ndenumerate returns tuples (index, element)\n",
    "        if e > 0:\n",
    "            result[i] = np.log(e) + 1\n",
    "    return result\n",
    "            \n",
    "def log_pos_p1_vectorized(x):\n",
    "    # same as above but faster\n",
    "    result = np.zeros_like(x)\n",
    "    result[x > 0] = np.log(x[x > 0]) + 1\n",
    "    return result"
   ]
  },
  {
   "cell_type": "code",
   "execution_count": 194,
   "metadata": {
    "collapsed": true
   },
   "outputs": [],
   "source": [
    "x = np.arange(-1000., 1000.)"
   ]
  },
  {
   "cell_type": "code",
   "execution_count": 200,
   "metadata": {},
   "outputs": [
    {
     "name": "stdout",
     "output_type": "stream",
     "text": [
      "2.62 ms ± 147 µs per loop (mean ± std. dev. of 7 runs, 100 loops each)\n"
     ]
    }
   ],
   "source": [
    "%timeit result_slow = log_pos_p1(x)"
   ]
  },
  {
   "cell_type": "code",
   "execution_count": 199,
   "metadata": {},
   "outputs": [
    {
     "name": "stdout",
     "output_type": "stream",
     "text": [
      "21.1 µs ± 990 ns per loop (mean ± std. dev. of 7 runs, 10000 loops each)\n"
     ]
    }
   ],
   "source": [
    "%timeit result_vectorized = log_pos_p1_vectorized(x)"
   ]
  },
  {
   "cell_type": "code",
   "execution_count": 201,
   "metadata": {},
   "outputs": [
    {
     "data": {
      "text/plain": [
       "True"
      ]
     },
     "execution_count": 201,
     "metadata": {},
     "output_type": "execute_result"
    }
   ],
   "source": [
    "# check if the results are correct\n",
    "np.allclose(result_slow, result_vectorized)"
   ]
  },
  {
   "cell_type": "markdown",
   "metadata": {},
   "source": [
    "### Exercises"
   ]
  },
  {
   "cell_type": "markdown",
   "metadata": {},
   "source": [
    "- the *rectified linear unit* (aka ReLU) is a commonly used activation function in machine learning. It can be computed using the following Python function:\n",
    "  ```python\n",
    "     def relu(x):\n",
    "        result = np.zeros_like(x) # create an array of 0s with the same shape and type as x\n",
    "        for i, e in np.ndenumerate(x): # ndenumerate returns tuples (index, element)\n",
    "            if x > 0:\n",
    "                result[i] = e\n",
    "        return result\n",
    "  ```\n",
    "  Vectorize this function. Evaluate the running time using the ```%timeit``` command on the data below *[2]*."
   ]
  },
  {
   "cell_type": "code",
   "execution_count": 206,
   "metadata": {
    "collapsed": true
   },
   "outputs": [],
   "source": [
    "def relu(x):\n",
    "    result = np.zeros_like(x) # create an array of 0s with the same shape and type as x\n",
    "    for i, e in np.ndenumerate(x): # ndenumerate returns tuples (index, element)\n",
    "        if e > 0:\n",
    "            result[i] = e\n",
    "    return result\n",
    "\n",
    "x = np.arange(-10000., 10000.)"
   ]
  },
  {
   "cell_type": "code",
   "execution_count": 38,
   "metadata": {
    "collapsed": true
   },
   "outputs": [],
   "source": [
    "# answer\n",
    "def relu_vectorized(x):\n",
    "    result = np.zeros_like(x)\n",
    "    result[x > 0] = x[x > 0]\n",
    "    return result\n",
    "\n",
    "# or\n",
    "def relu_vectorized(x):\n",
    "    return np.where(x > 0, x, 0) # np.where returns elements from the first array if condition is true,\n",
    "                                 # second otherwise"
   ]
  },
  {
   "cell_type": "markdown",
   "metadata": {},
   "source": [
    "- the integral of a function can be numerically aproximated using the *trapezoidal rule*, defined as:  \n",
    "  $\\displaystyle\\int_{a}^{b}f(x)dx \\approx \\frac{h}{2}f(a) + \\frac{h}{2}f(b) + h\\displaystyle\\sum_{i=1}^{n-1}f(a + ih), \\space h = \\frac{b - a}{n}$  \n",
    "  Write a vectorized function to integrate a function using the trapezoidal rule. It should accept as arguments the function to integrate, the lower and upper bounds and the number of iterations $n$. **Do not** use an explicit ```for```-loop for the summation. Use your function to intergrate $x^3$ from 0 to 1 using $n=1000$ (the true value of this integral is $\\frac{1}{4}$) *[2]*."
   ]
  },
  {
   "cell_type": "code",
   "execution_count": 218,
   "metadata": {
    "collapsed": true
   },
   "outputs": [],
   "source": [
    "def f(x):\n",
    "    return x ** 3\n",
    "\n",
    "a = 0\n",
    "b = 1\n",
    "n = 1000"
   ]
  },
  {
   "cell_type": "code",
   "execution_count": 219,
   "metadata": {
    "collapsed": true
   },
   "outputs": [],
   "source": [
    "# answer\n",
    "def trapz(f, a, b, n):\n",
    "    h = (b - a) / n\n",
    "    x = np.linspace(1., n-1, n)\n",
    "    return (h/2) * f(a) + (h/2) * f(b) + h * np.sum(f(a + x * h))"
   ]
  },
  {
   "cell_type": "markdown",
   "metadata": {},
   "source": [
    "## Challenges"
   ]
  },
  {
   "cell_type": "markdown",
   "metadata": {},
   "source": [
    "- Write a simple gradient descent optimizer using numpy *[3]*. Use it to fit a linear regression model to the sample data from the previous exercises *[2]*. You might find the notebook from the first workshop on linear models useful."
   ]
  },
  {
   "cell_type": "markdown",
   "metadata": {},
   "source": [
    "- Write a function to compute the elements of the Mandelbrot set with given resolution *[3]*. Estimate the area of the computed set *[2]*. Make the function as fast as possible using vectorization *[3]*."
   ]
  },
  {
   "cell_type": "markdown",
   "metadata": {},
   "source": [
    "- *Logistic regression* is a popular model used to estimate the probability of a binary outcome (i.e. 0 or 1). It belongs to a broader class of *generalized linear models*. Write a logistic regression solver using Numpy *[3]*. You can adopt multiple approaches, e.g. gradient descent from the first challenge or algorithms like *Newton's method* or *iteratively-reweighted least squares* ([Wikipedia](https://en.wikipedia.org/wiki/Logistic_regression) is a good place to start). Test your implementation on the [classic Titanic dataset](https://www.kaggle.com/c/titanic) or any other binary classification problem. Compare the performance of your model to a standard implementation (e.g. [scikit-learn](http://scikit-learn.org/stable/modules/generated/sklearn.linear_model.LogisticRegression.html)) using a metric of your choice. Compare the speed of your method to the reference implementation and try to make it as fast as possible (using vectorization, faster algorithms, etc.)"
   ]
  }
 ],
 "metadata": {
  "kernelspec": {
   "display_name": "Python [default]",
   "language": "python",
   "name": "python3"
  },
  "language_info": {
   "codemirror_mode": {
    "name": "ipython",
    "version": 3
   },
   "file_extension": ".py",
   "mimetype": "text/x-python",
   "name": "python",
   "nbconvert_exporter": "python",
   "pygments_lexer": "ipython3",
   "version": "3.6.3"
  }
 },
 "nbformat": 4,
 "nbformat_minor": 2
}
