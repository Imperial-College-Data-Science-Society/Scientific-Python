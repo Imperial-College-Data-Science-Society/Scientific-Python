{
 "cells": [
  {
   "cell_type": "markdown",
   "metadata": {},
   "source": [
    "# Introduction to Scientific Python "
   ]
  },
  {
   "cell_type": "markdown",
   "metadata": {},
   "source": [
    "## Numpy"
   ]
  },
  {
   "cell_type": "markdown",
   "metadata": {},
   "source": [
    "Numpy is imported and aliased to np by convention"
   ]
  },
  {
   "cell_type": "code",
   "execution_count": 1,
   "metadata": {
    "collapsed": true
   },
   "outputs": [],
   "source": [
    "import numpy as np"
   ]
  },
  {
   "cell_type": "markdown",
   "metadata": {},
   "source": [
    "### Array creation"
   ]
  },
  {
   "cell_type": "markdown",
   "metadata": {},
   "source": [
    "The basic data structure provided by Numpy is the ndarray (n-dimensional array). Each array can store items of the same datatype (e.g. integers, floats, etc.).\n",
    "Arrays can be created in a number of ways:"
   ]
  },
  {
   "cell_type": "markdown",
   "metadata": {},
   "source": [
    "- from a python iterable (usually a list)"
   ]
  },
  {
   "cell_type": "code",
   "execution_count": 2,
   "metadata": {
    "collapsed": true
   },
   "outputs": [],
   "source": [
    "a = np.array([0, 1, 2]) # a rank 1 array of integers"
   ]
  },
  {
   "cell_type": "markdown",
   "metadata": {},
   "source": [
    "- using arange (similar to Python's builtin range but returns an array):"
   ]
  },
  {
   "cell_type": "code",
   "execution_count": 3,
   "metadata": {
    "collapsed": true
   },
   "outputs": [],
   "source": [
    "a = np.arange(start=0., stop=1., step=.1) # a rank 1 array of floats \n",
    "                                          # note that start is included but stop is not\n",
    "b = np.arange(10) # a rank 1 array of ints from 0 to 9"
   ]
  },
  {
   "cell_type": "markdown",
   "metadata": {},
   "source": [
    "- using linspace and logspace"
   ]
  },
  {
   "cell_type": "code",
   "execution_count": 4,
   "metadata": {
    "collapsed": true
   },
   "outputs": [],
   "source": [
    "a = np.linspace(start=0, stop=5, num=10) # a rank 1 array of 10 evenly-spaced floats between 0 and 5\n",
    "                                         # this can be thought of as a linear axis of a graph with evenly-spaced ticks\n",
    "b = np.logspace(-6, -1, 6) # same as above but on logarithmic scale"
   ]
  },
  {
   "cell_type": "markdown",
   "metadata": {},
   "source": [
    "- using built-in helper functions"
   ]
  },
  {
   "cell_type": "code",
   "execution_count": 47,
   "metadata": {
    "collapsed": true
   },
   "outputs": [],
   "source": [
    "zeros = np.zeros(5) # rank 1 array of 5 zeros\n",
    "ones = np.ones(3)   # it's in the name\n",
    "eye = np.eye(8) # 8x8 identity matrix"
   ]
  },
  {
   "cell_type": "markdown",
   "metadata": {},
   "source": [
    "### Exercises"
   ]
  },
  {
   "cell_type": "markdown",
   "metadata": {},
   "source": [
    "- create a set of axes for a graph as Numpy arrays. Let the x axis be **uniformly spaced** from 0 to 60 with scale 1 (i.e. one tick per value) and the y axis be on **log scale** and represent the powers of 10 from 0 to 6 *[1]*."
   ]
  },
  {
   "cell_type": "code",
   "execution_count": 30,
   "metadata": {
    "collapsed": true
   },
   "outputs": [],
   "source": [
    "# answer:\n",
    "x = np.linspace(0, 60, 61)\n",
    "y = np.logspace(0, 6, 7)"
   ]
  },
  {
   "cell_type": "markdown",
   "metadata": {},
   "source": [
    "### Array indexing and shapes"
   ]
  },
  {
   "cell_type": "markdown",
   "metadata": {},
   "source": [
    "Basic array indexing is similar to Python lists. However, arrays can be indexed along multiple dimensions."
   ]
  },
  {
   "cell_type": "code",
   "execution_count": 5,
   "metadata": {},
   "outputs": [
    {
     "name": "stdout",
     "output_type": "stream",
     "text": [
      "[0 1 2]\n",
      "0\n",
      "[1 4 7]\n"
     ]
    }
   ],
   "source": [
    "a = np.array([[0, 1, 2],\n",
    "              [3, 4, 5],\n",
    "              [6, 7, 8]])\n",
    "print(a[0])    # prints [0, 1, 2]\n",
    "print(a[0, 0]) # prints 0\n",
    "print(a[:, 1]) # prints [1, 4, 7]"
   ]
  },
  {
   "cell_type": "markdown",
   "metadata": {},
   "source": [
    "Here : denotes all elements along the axis. For a 2D array (i.e. a matrix) axis 0 is along rows and axis 1 along columns."
   ]
  },
  {
   "cell_type": "markdown",
   "metadata": {},
   "source": [
    "#### Slicing\n",
    "Arrays support slicing along each axis, which works very similarly to Python lists."
   ]
  },
  {
   "cell_type": "code",
   "execution_count": 22,
   "metadata": {},
   "outputs": [
    {
     "name": "stdout",
     "output_type": "stream",
     "text": [
      "[ 0.  1.  2.  3.  4.]\n",
      "[[ 0  1]\n",
      " [ 3  4]\n",
      " [ 6  7]\n",
      " [ 9 10]]\n"
     ]
    }
   ],
   "source": [
    "a = np.linspace(0, 9, 10)\n",
    "print(a[0:5]) # prints [0., 1., 2., 3., 4.]\n",
    "b = np.array([[0,  1,  2],\n",
    "              [3,  4,  5],\n",
    "              [6,  7,  8],\n",
    "              [9, 10, 11]])\n",
    "\n",
    "print(b[:, 0:2]) # prints [[0,  1]\n",
    "                 #         [3,  4]\n",
    "                 #         [6,  7]\n",
    "                 #         [9, 10]]"
   ]
  },
  {
   "cell_type": "markdown",
   "metadata": {},
   "source": [
    "#### Boolean indexing\n",
    "Arrays can also be indexed using boolean values"
   ]
  },
  {
   "cell_type": "code",
   "execution_count": 13,
   "metadata": {},
   "outputs": [
    {
     "name": "stdout",
     "output_type": "stream",
     "text": [
      "[0 1 2 3 4]\n",
      "[0 2 4 6 8]\n"
     ]
    }
   ],
   "source": [
    "a = np.arange(10)\n",
    "print(a[a < 5]) # prints [0, 1, 2, 3, 4]\n",
    "print(a[a % 2 == 0]) # prints [0, 2, 4, 6, 8]"
   ]
  },
  {
   "cell_type": "markdown",
   "metadata": {},
   "source": [
    "#### Shapes\n",
    "The shape of the array is a tuple of size ```(array.ndim)```, where each element is the size of the array along that axis."
   ]
  },
  {
   "cell_type": "code",
   "execution_count": 8,
   "metadata": {},
   "outputs": [
    {
     "name": "stdout",
     "output_type": "stream",
     "text": [
      "(3,)\n",
      "(3, 3, 1)\n"
     ]
    }
   ],
   "source": [
    "a = np.array([0, 1, 2])\n",
    "print(a.shape) # prints 3\n",
    "b = np.array([[[0], [1], [2]],\n",
    "              [[3], [4], [5]],\n",
    "              [[6], [7], [8]]])\n",
    "print(b.shape) # prints (3, 3, 1)"
   ]
  },
  {
   "cell_type": "markdown",
   "metadata": {},
   "source": [
    "The shape of the array can be changed using the reshape method."
   ]
  },
  {
   "cell_type": "code",
   "execution_count": 9,
   "metadata": {},
   "outputs": [
    {
     "name": "stdout",
     "output_type": "stream",
     "text": [
      "[[0 1 2]\n",
      " [3 4 5]\n",
      " [6 7 8]]\n"
     ]
    }
   ],
   "source": [
    "a = np.arange(9).reshape((3, 3))\n",
    "print(a) # prints [[0 1 2]\n",
    "         #         [3 4 5]\n",
    "         #         [6 7 8]]"
   ]
  },
  {
   "cell_type": "markdown",
   "metadata": {},
   "source": [
    "Note that the total number of elements in the new array has to be equal to the number of elements in the initial array. The code below will throw an error."
   ]
  },
  {
   "cell_type": "code",
   "execution_count": 10,
   "metadata": {},
   "outputs": [
    {
     "name": "stdout",
     "output_type": "stream",
     "text": [
      "cannot reshape array of size 5 into shape (3,3)\n"
     ]
    }
   ],
   "source": [
    "try:\n",
    "    a = np.arange(5).reshape((3, 3))\n",
    "except ValueError as e:\n",
    "    print(e)"
   ]
  },
  {
   "cell_type": "markdown",
   "metadata": {},
   "source": [
    "### Exercises"
   ]
  },
  {
   "cell_type": "markdown",
   "metadata": {},
   "source": [
    "- get the first column and the third row of the following array: *[1]*"
   ]
  },
  {
   "cell_type": "code",
   "execution_count": 37,
   "metadata": {},
   "outputs": [],
   "source": [
    "a = np.array([[23, 324,  21, 116], \n",
    "              [ 0,  55, 232, 122],\n",
    "              [42,  43,  44,  45],\n",
    "              [178, 67, 567,  55]])"
   ]
  },
  {
   "cell_type": "code",
   "execution_count": null,
   "metadata": {
    "collapsed": true
   },
   "outputs": [],
   "source": [
    "# answer\n",
    "first_column = a[:, 0] \n",
    "third_row = a[2]"
   ]
  },
  {
   "cell_type": "markdown",
   "metadata": {},
   "source": [
    "- find all numbers divisible by 7 between 0 and 50 *[1]*"
   ]
  },
  {
   "cell_type": "code",
   "execution_count": 39,
   "metadata": {},
   "outputs": [],
   "source": [
    "# answer\n",
    "a = np.arange(0, 51)\n",
    "divisible_by_7 = a[a % 7 == 0]"
   ]
  },
  {
   "cell_type": "code",
   "execution_count": null,
   "metadata": {
    "collapsed": true
   },
   "outputs": [],
   "source": [
    "- an image can be represented as a 3D array with shape ```[height, width, n_channels]```. Write a function to "
   ]
  },
  {
   "cell_type": "markdown",
   "metadata": {},
   "source": [
    "### Mathematical operations and broadcasting"
   ]
  },
  {
   "cell_type": "markdown",
   "metadata": {},
   "source": [
    "#### Basic arithmetics\n",
    "Numpy arrays support the standard mathematical operations."
   ]
  },
  {
   "cell_type": "code",
   "execution_count": 20,
   "metadata": {},
   "outputs": [
    {
     "name": "stdout",
     "output_type": "stream",
     "text": [
      "[[1 2 3]\n",
      " [4 5 6]\n",
      " [7 8 9]]\n",
      "------------\n",
      "[[-5 -4 -3]\n",
      " [-2 -1  0]\n",
      " [ 1  2  3]]\n",
      "------------\n",
      "[30 33 36]\n",
      "------------\n",
      "[ 5.   5.5  6. ]\n"
     ]
    }
   ],
   "source": [
    "a = np.arange(9).reshape(3, 3)\n",
    "b = np.array([10, 11, 12])\n",
    "print(a + 1) # operation is performed on the whole array\n",
    "print('-'*12)\n",
    "print(a - 5)\n",
    "print('-'*12)\n",
    "print(b * 3)\n",
    "print('-'*12)\n",
    "print(b / 2)"
   ]
  },
  {
   "cell_type": "markdown",
   "metadata": {},
   "source": [
    "#### Broadcasting\n",
    "Operations involving 2 or more arrays are also possible. However, they must obey the rules of broadcasting."
   ]
  },
  {
   "cell_type": "code",
   "execution_count": 19,
   "metadata": {},
   "outputs": [
    {
     "name": "stdout",
     "output_type": "stream",
     "text": [
      "[[ 0  1  4]\n",
      " [ 9 16 25]\n",
      " [36 49 64]]\n",
      "------------\n",
      "[[10 12 14]\n",
      " [13 15 17]\n",
      " [16 18 20]]\n",
      "------------\n",
      "[10 14 18]\n"
     ]
    }
   ],
   "source": [
    "print(a * a) # multiply each element of a by itself\n",
    "print('-'*12)\n",
    "print(a + b) # add b elementwise to every row of a\n",
    "print('-'*12)\n",
    "print(a[:, 0] + b) # add b only to the first column of a"
   ]
  },
  {
   "cell_type": "markdown",
   "metadata": {
    "collapsed": true
   },
   "source": [
    "Notice that in the last 2 examples above we could perform the operations even though the arrays did not have the same shape. This is one of the most powerful features of Numpy that allows for very efficient computations. You can read more about broadcasting [in the official documentation](https://docs.scipy.org/doc/numpy/user/basics.broadcasting.html) and [here](http://cs231n.github.io/python-numpy-tutorial/#numpy-broadcasting)."
   ]
  },
  {
   "cell_type": "markdown",
   "metadata": {},
   "source": [
    "#### Built-in functions\n",
    "Numpy has efficient implementations of many standard mathematical and statistical functions."
   ]
  },
  {
   "cell_type": "code",
   "execution_count": 71,
   "metadata": {},
   "outputs": [
    {
     "name": "stdout",
     "output_type": "stream",
     "text": [
      "-0.299042695639\n",
      "True\n",
      "0.739101722217\n",
      "-3.58851234766\n",
      "[-0.0193929  -0.66852686 -2.90059259]\n",
      "[-2.11980549  0.12013663 -0.17582538 -1.41301811]\n"
     ]
    }
   ],
   "source": [
    "a = np.random.normal(0, 1, (4, 3)) # np.random.normal creates an array of normally-distributed random numbers\n",
    "                                   # with given mean and standard deviation (e.g. 0 and 1) and in given shape.\n",
    "print(np.mean(a)) # a number close to 0\n",
    "print(np.mean(a) == a.mean()) # many functions are also implemented as methods in the ndarray class\n",
    "print(np.std(a)) # close to 1\n",
    "\n",
    "print(np.sum(a))  # Compute sum of all elements\n",
    "print(np.sum(a, axis=0))  # Compute sum of each column\n",
    "print(np.sum(a, axis=1))  # Compute sum of each row"
   ]
  },
  {
   "cell_type": "markdown",
   "metadata": {},
   "source": [
    "### Exercises"
   ]
  },
  {
   "cell_type": "markdown",
   "metadata": {},
   "source": [
    "- create a 6x6 array of normally distributed random numbers with mean 5 and standard deviation 10. Print its computed mean and standard deviation *[1]*."
   ]
  },
  {
   "cell_type": "code",
   "execution_count": 52,
   "metadata": {},
   "outputs": [
    {
     "name": "stdout",
     "output_type": "stream",
     "text": [
      "5.09409892265\n",
      "8.87640405235\n"
     ]
    }
   ],
   "source": [
    "# answer\n",
    "a = np.random.normal(5, 10, (6, 6))\n",
    "print(np.mean(a))\n",
    "print(a.std())"
   ]
  },
  {
   "cell_type": "markdown",
   "metadata": {},
   "source": [
    "- add 5 to every element of the array from the previous exercise *[1]*."
   ]
  },
  {
   "cell_type": "code",
   "execution_count": 53,
   "metadata": {
    "collapsed": true
   },
   "outputs": [],
   "source": [
    "# answer\n",
    "a += 5"
   ]
  },
  {
   "cell_type": "markdown",
   "metadata": {},
   "source": [
    "- multiply the third column of the array from the previous exercise by the given array *[1]*."
   ]
  },
  {
   "cell_type": "code",
   "execution_count": 54,
   "metadata": {
    "collapsed": true
   },
   "outputs": [],
   "source": [
    "b = np.array([0, 1, 0, 1, 0, 1])"
   ]
  },
  {
   "cell_type": "code",
   "execution_count": 55,
   "metadata": {
    "collapsed": true
   },
   "outputs": [],
   "source": [
    "# answer\n",
    "a[:, 2] *= b"
   ]
  },
  {
   "cell_type": "markdown",
   "metadata": {},
   "source": [
    "- create a 7x7 matrix with 7 on the leading diagonal and 0 everywhere else (**note**: you might find the ```eye``` function useful) *[1]*."
   ]
  },
  {
   "cell_type": "code",
   "execution_count": 56,
   "metadata": {
    "collapsed": true
   },
   "outputs": [],
   "source": [
    "# answer\n",
    "a = np.eye(7) * 7"
   ]
  },
  {
   "cell_type": "markdown",
   "metadata": {},
   "source": [
    "- the following array represents the spending, in pounds of 4 people over 5 months (rows represent time and columns the individuals).\n",
    "  Compute the total spending of person 2. Compute the average spending in each month XXX (**note**: use the ```axis``` argument) *[2]*."
   ]
  },
  {
   "cell_type": "code",
   "execution_count": 76,
   "metadata": {},
   "outputs": [],
   "source": [
    "#            person     1        2       3        4      # month\n",
    "spending = np.array([[450.55, 340.67, 1023.98, 765.30],  # 1\n",
    "                     [430.46, 315.99,  998.48, 760.78],  # 2\n",
    "                     [470.30, 320.34, 1013.67, 774.50],  # 3\n",
    "                     [445.62, 400.60, 1020.20, 799.45],  # 4\n",
    "                     [432.01, 330.13, 1011.76, 750.91]]) # 5"
   ]
  },
  {
   "cell_type": "code",
   "execution_count": 78,
   "metadata": {},
   "outputs": [],
   "source": [
    "# answer\n",
    "total_person_2 = np.sum(spending[:, 1])\n",
    "mean_all = np.mean(spending, axis=0)"
   ]
  },
  {
   "cell_type": "markdown",
   "metadata": {},
   "source": [
    "- the *outer product* of two vectors ```u``` and ```v``` can be obtained by multiplying each element of ```u``` by each element of ```v```. Compute the outer product of the given vectors (**note**: use the ```reshape``` function) *[2]*."
   ]
  },
  {
   "cell_type": "code",
   "execution_count": 57,
   "metadata": {
    "collapsed": true
   },
   "outputs": [],
   "source": [
    "v = np.array([1,2,3])\n",
    "w = np.array([4,5])"
   ]
  },
  {
   "cell_type": "code",
   "execution_count": 51,
   "metadata": {},
   "outputs": [
    {
     "name": "stdout",
     "output_type": "stream",
     "text": [
      "[[ 4  5]\n",
      " [ 8 10]\n",
      " [12 15]]\n"
     ]
    }
   ],
   "source": [
    "# answer\n",
    "outer = np.reshape(v, (3, 1)) * w"
   ]
  },
  {
   "cell_type": "markdown",
   "metadata": {},
   "source": [
    "### Linear algebra"
   ]
  },
  {
   "cell_type": "markdown",
   "metadata": {},
   "source": [
    "Numpy has extensive support for linear algebra operations."
   ]
  },
  {
   "cell_type": "code",
   "execution_count": 69,
   "metadata": {},
   "outputs": [
    {
     "name": "stdout",
     "output_type": "stream",
     "text": [
      "29\n"
     ]
    }
   ],
   "source": [
    "u = np.array([0, 2, 5]) # a row vector in R^3, shape (3,)\n",
    "v = np.array([.5, .3, .87])\n",
    "a = np.arange(0, 9).reshape(3, 3) # a 3x3 matrix\n",
    "b = np.array([[.25,  .2],\n",
    "              [4.3,  .1],\n",
    "              [ 1., .82]]) # a 3x2 matrix\n",
    "\n",
    "print(u.dot(v)) # the dot product of vectors\n",
    "print(a.dot(u)) # the matrix vector product\n",
    "print(a.dot(b)) # matrix multiplication\n",
    "print(np.linalg.norm(u)) # norm aka magnitude of a vector\n"
   ]
  },
  {
   "cell_type": "code",
   "execution_count": null,
   "metadata": {
    "collapsed": true
   },
   "outputs": [],
   "source": []
  }
 ],
 "metadata": {
  "kernelspec": {
   "display_name": "Python [default]",
   "language": "python",
   "name": "python3"
  },
  "language_info": {
   "codemirror_mode": {
    "name": "ipython",
    "version": 3
   },
   "file_extension": ".py",
   "mimetype": "text/x-python",
   "name": "python",
   "nbconvert_exporter": "python",
   "pygments_lexer": "ipython3",
   "version": "3.6.3"
  }
 },
 "nbformat": 4,
 "nbformat_minor": 2
}
